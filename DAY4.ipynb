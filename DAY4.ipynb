{
 "cells": [
  {
   "cell_type": "code",
   "execution_count": null,
   "metadata": {},
   "outputs": [],
   "source": [
    "a=int(input(\"enter number\"))\n",
    "b=int(input(\"enter number\"))\n",
    "print(\"1.add 2.sub 3.mul 4.div 5.floordiv 6.mod 7.pow\")\n",
    "choice=int(input(\"enter your choice:\"))\n",
    "if(choice==1):\n",
    "    print(\"addition is:\",a+b)\n",
    "elif(choice==2):\n",
    "    print(\"sub is:\",a-b)\n",
    "elif(choice==3):\n",
    "    print(\"mul is:\",a*b)\n",
    "elif(choice==4):\n",
    "    print(\"div is:\",a/b)\n",
    "elif(choice==5):\n",
    "    print(\"floor div is:\",a//b)\n",
    "elif(choice==6):\n",
    "    print(\"mod is:\",a%b)\n",
    "elif(choice==7):\n",
    "    print(\"pow is:\",a**b)\n",
    "else:\n",
    "    print(\"Invalid Choice\")\n"
   ]
  },
  {
   "cell_type": "code",
   "execution_count": null,
   "metadata": {},
   "outputs": [],
   "source": [
    "#username=\"python\"\n",
    "#psaaword=\"batch\"\n",
    "#i/p:usname,pswrd:\n",
    "#o/p:welcome to python\n",
    "username=\"python\"\n",
    "password=\"batch\"\n",
    "usname=input(\"enter your username\")\n",
    "if usname==username:\n",
    "    pswrd=input(\"enter your password\")\n",
    "    if pswrd==password:\n",
    "        print(\"welcome\",username)\n",
    "    else:\n",
    "        print(\"Invalid password\")\n",
    "else:\n",
    "    print(\"Invalid credits\")\n",
    "        "
   ]
  },
  {
   "cell_type": "code",
   "execution_count": null,
   "metadata": {},
   "outputs": [],
   "source": [
    "#Nested if: if block inside if block\n",
    "if(condition):\n",
    "    statament\n",
    "    if(condition):\n",
    "        statement\n",
    "    else:\n",
    "        statement\n",
    "else:\n",
    "    statement"
   ]
  },
  {
   "cell_type": "code",
   "execution_count": null,
   "metadata": {},
   "outputs": [],
   "source": [
    "#i/p:d              9      @\n",
    "#o/p:alphabet   digit      special characters\n",
    "n=input(\"enter input\")\n",
    "if(n>='a' and n<='z') or (n>='A' and n<='Z'):\n",
    "    print(\"Alphabet\")\n",
    "elif(n>='0'and n<='9'):\n",
    "    print(\"digit\")\n",
    "else:\n",
    "    print(\"Special Characters\")"
   ]
  },
  {
   "cell_type": "code",
   "execution_count": null,
   "metadata": {},
   "outputs": [],
   "source": [
    "#i/p:marks:80-90--->Agrade \n",
    "#70-60--->b grade\n",
    "#60-50--->c grade\n",
    "#50-40-->d grade\n",
    "#<40--->Fail\n",
    "marks=int(input(\"enter marks\"))\n",
    "if(marks>=80 and marks<=90):\n",
    "    print(\"A grade\")\n",
    "elif(marks>=60 and marks<=70):\n",
    "    print(\"B grade\")\n",
    "elif(marks>=50 and marks<=60):\n",
    "    print(\" C grade\")\n",
    "elif(marks>=40 and marks<=50):\n",
    "    print(\"D grade\")\n",
    "elif(marks<=40):\n",
    "    print(\"fail\")\n",
    "else:\n",
    "    print(\"invalid marks\")"
   ]
  },
  {
   "cell_type": "code",
   "execution_count": null,
   "metadata": {},
   "outputs": [],
   "source": [
    "#i/p:  given num is even --> num >10 -> **2    n<10 **3   print odd\n",
    "n=int(input(\"enter number\"))\n",
    "if(n%2==0):\n",
    "    if(n>10):\n",
    "        print(n**2)\n",
    "    else:\n",
    "        print(n**3)\n",
    "else:\n",
    "    print(\"Odd\")"
   ]
  },
  {
   "cell_type": "code",
   "execution_count": 4,
   "metadata": {},
   "outputs": [
    {
     "name": "stdout",
     "output_type": "stream",
     "text": [
      "enter username:57\n",
      "enter password:1234\n",
      "successfully entered\n"
     ]
    }
   ],
   "source": [
    "#username= 50 to 100    50 to 100           120\n",
    "#pswrd=1234           4567                   invalid username\n",
    "#welcome            wrong pswrd\n",
    "ui=int(input(\"enter username:\"))\n",
    "if(ui>=50 and ui<=100):\n",
    "    pw=int(input(\"enter password:\"))\n",
    "    if(pw==1234):\n",
    "        print(\"successfully entered\")\n",
    "    else:\n",
    "        print(\"wrong password\")\n",
    "else:\n",
    "    print(\"invalid username\")"
   ]
  },
  {
   "cell_type": "markdown",
   "metadata": {},
   "source": [
    "## Iterations(loops)\n",
    "- Repeat the sequence of instructions until a specific condition satisfies.\n",
    "    - for loop\n",
    "    - while loop"
   ]
  },
  {
   "cell_type": "code",
   "execution_count": null,
   "metadata": {},
   "outputs": [],
   "source": [
    "# for loop:\n",
    "- for loop is used in the case where we need to execute some part\n",
    "of the code until the given condition is known\n",
    "- range known\n",
    "#Syntax:\n",
    "for iterating_var in iterable:\n",
    "    statements\n",
    "for variable in range(start,ending,step):\n",
    "    statements\n",
    "#for(initilization;condition;incre/decre)\n",
    "#for(i=0;i<=10;i++/i--)"
   ]
  },
  {
   "cell_type": "code",
   "execution_count": 10,
   "metadata": {},
   "outputs": [
    {
     "name": "stdout",
     "output_type": "stream",
     "text": [
      "1 2 3 4 5 6 7 8 9 10 11 12 13 14 15 16 17 18 19 20 21 22 23 24 25 26 27 28 29 30 31 32 33 34 35 36 37 38 39 40 41 42 43 44 45 46 47 48 49 50 51 52 53 54 55 56 57 58 59 60 61 62 63 64 65 66 67 68 69 70 71 72 73 74 75 76 77 78 79 80 81 82 83 84 85 86 87 88 89 90 91 92 93 94 95 96 97 98 99 100 "
     ]
    }
   ],
   "source": [
    "for i in range(1,100+1): #(include,exclude(n-1))\n",
    "    print(i,end= \" \")"
   ]
  },
  {
   "cell_type": "code",
   "execution_count": 15,
   "metadata": {},
   "outputs": [
    {
     "name": "stdout",
     "output_type": "stream",
     "text": [
      "0 1 2 3 4 5 6 7 8 9 "
     ]
    }
   ],
   "source": [
    "for i in range(10):\n",
    "    print(i,end=\" \")"
   ]
  },
  {
   "cell_type": "code",
   "execution_count": 17,
   "metadata": {},
   "outputs": [
    {
     "name": "stdout",
     "output_type": "stream",
     "text": [
      "1 3 5 7 9 "
     ]
    }
   ],
   "source": [
    "for i in range(1,10+1,2):\n",
    "    print(i,end=\" \")"
   ]
  },
  {
   "cell_type": "code",
   "execution_count": 19,
   "metadata": {},
   "outputs": [
    {
     "name": "stdout",
     "output_type": "stream",
     "text": [
      "10 8 6 4 2 "
     ]
    }
   ],
   "source": [
    "for i in range(10,1,-2):\n",
    "    print(i,end=\" \")"
   ]
  },
  {
   "cell_type": "code",
   "execution_count": null,
   "metadata": {},
   "outputs": [],
   "source": []
  }
 ],
 "metadata": {
  "kernelspec": {
   "display_name": "Python 3",
   "language": "python",
   "name": "python3"
  },
  "language_info": {
   "codemirror_mode": {
    "name": "ipython",
    "version": 3
   },
   "file_extension": ".py",
   "mimetype": "text/x-python",
   "name": "python",
   "nbconvert_exporter": "python",
   "pygments_lexer": "ipython3",
   "version": "3.8.3"
  }
 },
 "nbformat": 4,
 "nbformat_minor": 4
}
