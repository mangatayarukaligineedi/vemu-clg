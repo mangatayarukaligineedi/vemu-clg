{
 "cells": [
  {
   "cell_type": "markdown",
   "metadata": {},
   "source": [
    "### Conditional Statements:\n",
    "- To execute specific block or code given condition is is true or false."
   ]
  },
  {
   "cell_type": "markdown",
   "metadata": {},
   "source": [
    "- if Statement -->to check the single condition.\n",
    "- if else statement-->to check the two conditions.\n",
    "- elif statament(else-if)-->to or more conditions.\n",
    "- Nested if Statement-->if block inside blocks.\n"
   ]
  },
  {
   "cell_type": "markdown",
   "metadata": {},
   "source": [
    "## if statement syntax:\n",
    "if condition:\n",
    "    statemets\n",
    "    \n",
    "#indendation:\n",
    "    - four spaces or tabspace"
   ]
  },
  {
   "cell_type": "code",
   "execution_count": null,
   "metadata": {},
   "outputs": [],
   "source": [
    "#to check the given num Positive number\n",
    "n=int(input(\"enter number\"))\n",
    "if n>=1:\n",
    "    print(n,\"num is positive\")"
   ]
  },
  {
   "cell_type": "code",
   "execution_count": null,
   "metadata": {},
   "outputs": [],
   "source": [
    "#small numbers\n",
    "n=int(input(\"enter number\"))\n",
    "if n<10:\n",
    "    print(n,\"is smaller than 10\")"
   ]
  },
  {
   "cell_type": "code",
   "execution_count": null,
   "metadata": {},
   "outputs": [],
   "source": [
    "#if else syntax:\n",
    "if condition:\n",
    "    statement\n",
    "else:\n",
    "    statement"
   ]
  },
  {
   "cell_type": "code",
   "execution_count": 14,
   "metadata": {},
   "outputs": [
    {
     "name": "stdout",
     "output_type": "stream",
     "text": [
      "enter age10\n",
      "not eligible\n"
     ]
    }
   ],
   "source": [
    "#vote eligibility\n",
    "age=int(input(\"enter age\"))\n",
    "if age>=18:\n",
    "    print(\"eligible\")\n",
    "else:\n",
    "    print(\"not eligible\")"
   ]
  },
  {
   "cell_type": "code",
   "execution_count": 1,
   "metadata": {},
   "outputs": [
    {
     "name": "stdout",
     "output_type": "stream",
     "text": [
      "enter a number45\n",
      "45 is odd number\n"
     ]
    }
   ],
   "source": [
    "#To check the given num is even or odd\n",
    "n=int(input(\"enter a number\"))\n",
    "if n%2==0:\n",
    "    print(n,\"is even number\")\n",
    "else:\n",
    "    print(n,\"is odd number\")"
   ]
  },
  {
   "cell_type": "code",
   "execution_count": 5,
   "metadata": {},
   "outputs": [
    {
     "name": "stdout",
     "output_type": "stream",
     "text": [
      "enter a year2004\n",
      "2004 is a leap year\n"
     ]
    }
   ],
   "source": [
    "#Leap year\n",
    "year=int(input(\"enter a year\"))\n",
    "if(year%4==0 and year%100!=0)or(year%400==0):\n",
    "    print(year,\"is a leap year\")\n",
    "else:\n",
    "    print(year,\"not a leapyear\")"
   ]
  },
  {
   "cell_type": "code",
   "execution_count": 8,
   "metadata": {},
   "outputs": [
    {
     "name": "stdout",
     "output_type": "stream",
     "text": [
      "enter a number30\n",
      "30 is divisible by 3 and 5\n"
     ]
    }
   ],
   "source": [
    "#divisible number\n",
    "#i/p:35\n",
    "#o/p:give num is divisible by 3 and 5.\n",
    "n=int(input(\"enter a number\"))\n",
    "if(n%3==0 and n%5==0):\n",
    "    print(n,\"is divisible by 3 and 5\")\n",
    "else:\n",
    "    print(n,\"is not a divisible by 3 and 5\")"
   ]
  },
  {
   "cell_type": "code",
   "execution_count": 13,
   "metadata": {},
   "outputs": [
    {
     "name": "stdout",
     "output_type": "stream",
     "text": [
      "enter chocolates:10\n",
      "enter friends:2\n",
      "chocolates are equally distributed\n"
     ]
    }
   ],
   "source": [
    "# Chocolates and friends\n",
    "#i/p(chocolates):10    friends:2     chocolates: 8   friends:7\n",
    "#o/p:equally distributed               not equally distributed\n",
    "c=int(input(\"enter chocolates:\"))\n",
    "f=int(input(\"enter friends:\"))\n",
    "if(c%f==0):\n",
    "    print(\"chocolates are equally distributed\")\n",
    "else:\n",
    "    print(\"not equally distributed\")"
   ]
  },
  {
   "cell_type": "code",
   "execution_count": null,
   "metadata": {},
   "outputs": [],
   "source": [
    "#elif syntax:\n",
    "if(condition):\n",
    "    statement\n",
    "elif(condition):\n",
    "    statement\n",
    "elif(condition):\n",
    "    statement\n",
    "      .\n",
    "      .\n",
    "      .\n",
    "else:\n",
    "    statement"
   ]
  },
  {
   "cell_type": "code",
   "execution_count": 16,
   "metadata": {},
   "outputs": [
    {
     "name": "stdout",
     "output_type": "stream",
     "text": [
      "enter num4\n",
      "enter num7\n",
      "enter num3\n",
      "7 is a greatest num\n"
     ]
    }
   ],
   "source": [
    "#biggest number\n",
    "#i/p:  4   5  6\n",
    "#o/p:  6 is the biggest num\n",
    "a=int(input(\"enter num\"))\n",
    "b=int(input(\"enter num\"))\n",
    "c=int(input(\"enter num\"))\n",
    "if(a>b and a>c):\n",
    "    print(a,\"is the biggest num\")\n",
    "elif(b>c):\n",
    "    print(b,\"is a greatest num\")\n",
    "else:\n",
    "    print(c,\"is the biggest num\")"
   ]
  },
  {
   "cell_type": "code",
   "execution_count": 18,
   "metadata": {},
   "outputs": [
    {
     "name": "stdout",
     "output_type": "stream",
     "text": [
      "enter str123\n",
      "enter str123\n",
      "equal\n"
     ]
    }
   ],
   "source": [
    "s1=input(\"enter str\")\n",
    "s2=int(input(\"enter str\"))\n",
    "c=str(s2)\n",
    "if(c==s1):\n",
    "    print(\"equal\")\n",
    "else:\n",
    "    print(\"not equal\")"
   ]
  },
  {
   "cell_type": "code",
   "execution_count": null,
   "metadata": {},
   "outputs": [],
   "source": [
    "#i/p:   enter a num:4    enter a num:2\n",
    "#1.add 2.sub 3.mul 4.div 5.floor 6.mod   7.pow -->   option:3\n",
    "#o/p:8"
   ]
  }
 ],
 "metadata": {
  "kernelspec": {
   "display_name": "Python 3",
   "language": "python",
   "name": "python3"
  },
  "language_info": {
   "codemirror_mode": {
    "name": "ipython",
    "version": 3
   },
   "file_extension": ".py",
   "mimetype": "text/x-python",
   "name": "python",
   "nbconvert_exporter": "python",
   "pygments_lexer": "ipython3",
   "version": "3.8.3"
  }
 },
 "nbformat": 4,
 "nbformat_minor": 4
}
