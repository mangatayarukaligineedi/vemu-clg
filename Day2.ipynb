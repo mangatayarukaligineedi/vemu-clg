{
 "cells": [
  {
   "cell_type": "code",
   "execution_count": 3,
   "metadata": {},
   "outputs": [
    {
     "name": "stdout",
     "output_type": "stream",
     "text": [
      "10 <class 'str'>\n",
      "<class 'int'>\n"
     ]
    }
   ],
   "source": [
    "n=\"10\"\n",
    "print(n,type(n))\n",
    "print(type(int(n)))"
   ]
  },
  {
   "cell_type": "code",
   "execution_count": 5,
   "metadata": {},
   "outputs": [
    {
     "name": "stdout",
     "output_type": "stream",
     "text": [
      "<class 'float'>\n",
      "12.3 <class 'str'>\n"
     ]
    }
   ],
   "source": [
    "#Float to String\n",
    "n=12.3\n",
    "print(type(n))\n",
    "print(n,type(str(n)))"
   ]
  },
  {
   "cell_type": "code",
   "execution_count": 7,
   "metadata": {},
   "outputs": [
    {
     "name": "stdout",
     "output_type": "stream",
     "text": [
      "20\n",
      "1010\n"
     ]
    }
   ],
   "source": [
    "n=\"10\"\n",
    "print(int(n)+10)\n",
    "print(n+str(10))#Concodinate"
   ]
  },
  {
   "cell_type": "markdown",
   "metadata": {},
   "source": [
    "### Input Methods\n",
    "- Static\n",
    "- Dynamic\n",
    "    - str-->input()\n",
    "    - int-->int(input())\n",
    "    - float-->float(input()\n"
   ]
  },
  {
   "cell_type": "code",
   "execution_count": 9,
   "metadata": {},
   "outputs": [
    {
     "name": "stdout",
     "output_type": "stream",
     "text": [
      "enter a stringpython\n",
      "python\n",
      "<class 'str'>\n"
     ]
    }
   ],
   "source": [
    "#string userinput\n",
    "s=input(\"enter a string\")\n",
    "print(s)\n",
    "print(type(s))"
   ]
  },
  {
   "cell_type": "code",
   "execution_count": 12,
   "metadata": {},
   "outputs": [
    {
     "name": "stdout",
     "output_type": "stream",
     "text": [
      "enter number12\n",
      "12\n",
      "<class 'int'>\n"
     ]
    }
   ],
   "source": [
    "#Int userinput\n",
    "s=int(input(\"enter number\"))\n",
    "print(s)\n",
    "print(type(s))"
   ]
  },
  {
   "cell_type": "code",
   "execution_count": 14,
   "metadata": {},
   "outputs": [
    {
     "name": "stdout",
     "output_type": "stream",
     "text": [
      "enter number45.8\n",
      "45.8\n",
      "<class 'float'>\n"
     ]
    }
   ],
   "source": [
    "#float userinput\n",
    "a=float(input(\"enter number\"))\n",
    "print(a)\n",
    "print(type(a))"
   ]
  },
  {
   "cell_type": "code",
   "execution_count": 18,
   "metadata": {},
   "outputs": [
    {
     "name": "stdout",
     "output_type": "stream",
     "text": [
      "enter namepython\n",
      "hello\n",
      "hellopython\n",
      "hello python\n",
      "hello python\n"
     ]
    }
   ],
   "source": [
    "s=input(\"enter name\")\n",
    "print(\"hello\")\n",
    "print(\"hello\"+s)\n",
    "print(\"hello\",s)\n",
    "print(\"hello \"+s)"
   ]
  },
  {
   "cell_type": "code",
   "execution_count": 19,
   "metadata": {},
   "outputs": [
    {
     "name": "stdout",
     "output_type": "stream",
     "text": [
      "enter clg namevemu\n",
      "enter your namepython\n",
      "welcome to vemu python\n"
     ]
    }
   ],
   "source": [
    "#welcome to clgname yourname\n",
    "a=input(\"enter clg name\")\n",
    "b=input(\"enter your name\")\n",
    "print(\"welcome to\",a,b)"
   ]
  },
  {
   "cell_type": "code",
   "execution_count": null,
   "metadata": {},
   "outputs": [],
   "source": [
    "#Operators\n",
    "1.Arithematic operator(+,-,*,%,/,//(floor),**(power))\n",
    "2.Assignment operator(=,+=,-=,*=,**==,/=,//=)\n",
    "3.Logical operator(and,or,not)\n",
    "4.comparision operator(==,!=,<,>,<=,>=)\n",
    "5.membership operator(in,not in)\n",
    "6.identity operator(is,is not)\n",
    "7.bitwise operator(&,|,^,>>,<<)"
   ]
  },
  {
   "cell_type": "code",
   "execution_count": 20,
   "metadata": {},
   "outputs": [
    {
     "name": "stdout",
     "output_type": "stream",
     "text": [
      "11\n",
      "5\n",
      "24\n",
      "2\n",
      "2.6666666666666665\n",
      "2\n",
      "512\n"
     ]
    }
   ],
   "source": [
    "#Arithematic operators:These operations are used to perform mathimatical operations\n",
    "#like addition,substraction,multiplication,div,floor,power.....\n",
    "a=8\n",
    "b=3\n",
    "print(a+b)\n",
    "print(a-b)\n",
    "print(a*b)\n",
    "print(a%b)\n",
    "print(a/b)\n",
    "print(a//b)\n",
    "print(a**b)"
   ]
  },
  {
   "cell_type": "code",
   "execution_count": 24,
   "metadata": {},
   "outputs": [
    {
     "name": "stdout",
     "output_type": "stream",
     "text": [
      "30\n",
      "10\n"
     ]
    }
   ],
   "source": [
    "#Assignment operators:these operator is simply assign values...\n",
    "a=10\n",
    "b=20\n",
    "a+=b  #a=a+b\n",
    "print(a)\n",
    "a-=b  #a=a-b\n",
    "print(a)\n"
   ]
  },
  {
   "cell_type": "code",
   "execution_count": 27,
   "metadata": {},
   "outputs": [
    {
     "name": "stdout",
     "output_type": "stream",
     "text": [
      "False\n",
      "True\n",
      "False\n"
     ]
    }
   ],
   "source": [
    "#Logical operator\n",
    "a=5\n",
    "print(a>4 and a<5)\n",
    "print(a<3 or a<6)\n",
    "print(not(a<3 or a<6))"
   ]
  },
  {
   "cell_type": "code",
   "execution_count": 32,
   "metadata": {},
   "outputs": [
    {
     "name": "stdout",
     "output_type": "stream",
     "text": [
      "False\n",
      "True\n",
      "False\n",
      "False\n",
      "True\n"
     ]
    }
   ],
   "source": [
    "#Comparision operator\n",
    "a=10\n",
    "b=20\n",
    "print(a==b)\n",
    "print(a<b)\n",
    "print(a>b)\n",
    "print(a>=b)\n",
    "print(a<=b)"
   ]
  },
  {
   "cell_type": "code",
   "execution_count": 34,
   "metadata": {},
   "outputs": [
    {
     "name": "stdout",
     "output_type": "stream",
     "text": [
      "True\n",
      "False\n"
     ]
    }
   ],
   "source": [
    "#Membership operators:membership operators are tested for membership in a asequence,\n",
    "#such as string,list or tuple..\n",
    "a=\"mango\"\n",
    "print('n' in a)\n",
    "print('g' not in a)"
   ]
  },
  {
   "cell_type": "code",
   "execution_count": 36,
   "metadata": {},
   "outputs": [
    {
     "name": "stdout",
     "output_type": "stream",
     "text": [
      "False\n",
      "True\n"
     ]
    }
   ],
   "source": [
    "#Identity operator-->these operator compares the memorylocations of the two objectas\n",
    "a='py'\n",
    "b='ng'\n",
    "print(a is b)\n",
    "print(a is not b)\n"
   ]
  },
  {
   "cell_type": "code",
   "execution_count": 37,
   "metadata": {},
   "outputs": [
    {
     "name": "stdout",
     "output_type": "stream",
     "text": [
      "0\n",
      "6\n",
      "6\n"
     ]
    }
   ],
   "source": [
    "#Bitwise Operator  #  8421\n",
    "a=4     #0100\n",
    "b=2     #0010\n",
    "print(a&b)   #0000   0   t t --t\n",
    "print(a|b)   #0110   6   t f -t\n",
    "print(a^b)   #0110   6"
   ]
  },
  {
   "cell_type": "code",
   "execution_count": 40,
   "metadata": {},
   "outputs": [
    {
     "data": {
      "text/plain": [
       "20"
      ]
     },
     "execution_count": 40,
     "metadata": {},
     "output_type": "execute_result"
    }
   ],
   "source": [
    "a=10   #   8421\n",
    "a<<1   #0000 1010    0001  0100  -->left shift"
   ]
  },
  {
   "cell_type": "code",
   "execution_count": 41,
   "metadata": {},
   "outputs": [
    {
     "data": {
      "text/plain": [
       "5"
      ]
     },
     "execution_count": 41,
     "metadata": {},
     "output_type": "execute_result"
    }
   ],
   "source": [
    "a>>1   #0000 1010   0000 0101  --->right shift"
   ]
  },
  {
   "cell_type": "markdown",
   "metadata": {},
   "source": [
    "## Conditional Statements\n",
    "- To execute Specific block & code if given condition is true or false.\n",
    "1. if Statement\n",
    "2. if-else statment\n",
    "3. elif statment\n",
    "4. nested if statement"
   ]
  }
 ],
 "metadata": {
  "kernelspec": {
   "display_name": "Python 3",
   "language": "python",
   "name": "python3"
  },
  "language_info": {
   "codemirror_mode": {
    "name": "ipython",
    "version": 3
   },
   "file_extension": ".py",
   "mimetype": "text/x-python",
   "name": "python",
   "nbconvert_exporter": "python",
   "pygments_lexer": "ipython3",
   "version": "3.8.3"
  }
 },
 "nbformat": 4,
 "nbformat_minor": 4
}
