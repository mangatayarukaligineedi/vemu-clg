{
 "cells": [
  {
   "cell_type": "code",
   "execution_count": 3,
   "metadata": {},
   "outputs": [
    {
     "name": "stdout",
     "output_type": "stream",
     "text": [
      "2 4 6 8 10 "
     ]
    }
   ],
   "source": [
    "#even nums 1 to 10-->2 4 6 8 10\n",
    "for i in range(2,10+1,2):\n",
    "    print(i,end=\" \")"
   ]
  },
  {
   "cell_type": "code",
   "execution_count": 4,
   "metadata": {},
   "outputs": [
    {
     "name": "stdout",
     "output_type": "stream",
     "text": [
      "1 3 5 7 9 "
     ]
    }
   ],
   "source": [
    "#odd nums\n",
    "for i in range(1,10+1,2):\n",
    "    print(i,end=\" \")"
   ]
  },
  {
   "cell_type": "code",
   "execution_count": 5,
   "metadata": {},
   "outputs": [
    {
     "name": "stdout",
     "output_type": "stream",
     "text": [
      "h e l l o w o r l d "
     ]
    }
   ],
   "source": [
    "for letter in 'helloworld':\n",
    "    print(letter,end=\" \")"
   ]
  },
  {
   "cell_type": "code",
   "execution_count": 6,
   "metadata": {},
   "outputs": [
    {
     "name": "stdout",
     "output_type": "stream",
     "text": [
      "1 2 3 4 5 "
     ]
    }
   ],
   "source": [
    "for le in 1,2,3,4,5:\n",
    "    print(le,end=\" \")\n",
    "    "
   ]
  },
  {
   "cell_type": "code",
   "execution_count": 11,
   "metadata": {},
   "outputs": [
    {
     "name": "stdout",
     "output_type": "stream",
     "text": [
      "1\n",
      "10\n",
      "55\n"
     ]
    }
   ],
   "source": [
    "#Natural numbers sum(1 to 10) -->sum=55\n",
    "m=int(input())  #startingpoint\n",
    "n=int(input())   #ending point\n",
    "s=0\n",
    "for i in range(m,n+1):  #1  #2   #3         #4          #5          #6\n",
    "    s=s+i    #0=0+1=1   #1=1+2=3  #3=3+3=6   #6=6+4=10  10=10+5=15  15=15+6=21\n",
    "print(s)\n",
    "\n"
   ]
  },
  {
   "cell_type": "code",
   "execution_count": 12,
   "metadata": {},
   "outputs": [
    {
     "name": "stdout",
     "output_type": "stream",
     "text": [
      "5\n",
      "5 * 1 = 5\n",
      "5 * 2 = 10\n",
      "5 * 3 = 15\n",
      "5 * 4 = 20\n",
      "5 * 5 = 25\n",
      "5 * 6 = 30\n",
      "5 * 7 = 35\n",
      "5 * 8 = 40\n",
      "5 * 9 = 45\n",
      "5 * 10 = 50\n"
     ]
    }
   ],
   "source": [
    "#Table-->i/p:5  \n",
    "#o/p:5*1=5\n",
    "#     .\n",
    "#     .\n",
    "#    5*10=50\n",
    "n=int(input())         #5\n",
    "for i in range(1,10+1):\n",
    "    print(n,\"*\",i,\"=\",n*i)"
   ]
  },
  {
   "cell_type": "code",
   "execution_count": 20,
   "metadata": {},
   "outputs": [
    {
     "name": "stdout",
     "output_type": "stream",
     "text": [
      "enter charaba\n",
      "aba sum is 292\n"
     ]
    }
   ],
   "source": [
    "#i/p:aba  97+98+97\n",
    "#o/p:292\n",
    "a=input(\"enter char\")\n",
    "s=0\n",
    "for i in a:\n",
    "    s=s+ord(i)    #s=97\n",
    "print(a,'sum is',s)"
   ]
  },
  {
   "cell_type": "code",
   "execution_count": 13,
   "metadata": {},
   "outputs": [
    {
     "data": {
      "text/plain": [
       "97"
      ]
     },
     "execution_count": 13,
     "metadata": {},
     "output_type": "execute_result"
    }
   ],
   "source": [
    "ord('a')"
   ]
  },
  {
   "cell_type": "code",
   "execution_count": 25,
   "metadata": {},
   "outputs": [
    {
     "name": "stdout",
     "output_type": "stream",
     "text": [
      "10\n",
      "1 2 5 10 "
     ]
    }
   ],
   "source": [
    "#Factors 10-->1,2,5,10\n",
    "n=int(input())            #10\n",
    "for i in range(1,n+1):    #1to10\n",
    "    if(n%i==0):         #10%1==0   #10%2==0  #10%5==0\n",
    "        print(i,end=\" \")"
   ]
  },
  {
   "cell_type": "code",
   "execution_count": 29,
   "metadata": {},
   "outputs": [
    {
     "name": "stdout",
     "output_type": "stream",
     "text": [
      "5\n",
      "5 is Prime\n"
     ]
    }
   ],
   "source": [
    "#Given number is prime num or not.\n",
    "\n",
    "n=int(input())           5\n",
    "c=0\n",
    "for i in range(1,n+1):  \n",
    "    if(n%i==0):   #5%1==0   #5%2!=0  #5%3!=0  \n",
    "        c=c+1       #1   1=1+1=2\n",
    "if(c==2):   \n",
    "    print(n,\"is Prime\")\n",
    "else:\n",
    "    print(n,\"is not prime\")"
   ]
  },
  {
   "cell_type": "code",
   "execution_count": 32,
   "metadata": {},
   "outputs": [
    {
     "name": "stdout",
     "output_type": "stream",
     "text": [
      "1\n",
      "10\n",
      "Even nums are: 2 4 6 8 10 \n",
      "Odd num are: 1 3 5 7 9 "
     ]
    }
   ],
   "source": [
    "#i/p:starting point:1\n",
    "#    ending point:10\n",
    "#o/p:Even num are:2 4 6 8 10\n",
    "#    Odd nums are:1 3 5 7 9\n",
    "s=int(input())\n",
    "e=int(input())\n",
    "print(\"Even nums are:\",end=\" \")\n",
    "for i in range(s,e+1):\n",
    "    if(i%2==0):\n",
    "        print(i,end=\" \")\n",
    "print(\"\\nOdd num are:\",end=\" \")\n",
    "for i in range(s,e+1):\n",
    "    if(i%2==1):\n",
    "        print(i,end=\" \")"
   ]
  },
  {
   "cell_type": "code",
   "execution_count": 36,
   "metadata": {},
   "outputs": [
    {
     "name": "stdout",
     "output_type": "stream",
     "text": [
      "6\n",
      "6 num is Perfect\n"
     ]
    }
   ],
   "source": [
    "#Perfect num 6-->1,2,3=1+2+3=6\n",
    "n=int(input())       #6\n",
    "fs=0\n",
    "for i in range(1,n):  (1,5)\n",
    "    if(n%i==0):     #6%1==0   #6%2==0   #6%3==0  #6%4!=0 #6%5!=0\n",
    "        fs=fs+i     #0=0+1=1  #1=1+2=3  #3=3+3=6\n",
    "if(fs==n):  #6==6\n",
    "    print(n,\"num is Perfect\")\n",
    "else:\n",
    "    print(n,\"is not perfect\")"
   ]
  },
  {
   "cell_type": "code",
   "execution_count": 40,
   "metadata": {},
   "outputs": [
    {
     "name": "stdout",
     "output_type": "stream",
     "text": [
      "4\n",
      "24\n"
     ]
    }
   ],
   "source": [
    "#Factorial -->5!=5*4*3*2*1\n",
    "n=int(input())    #4\n",
    "f=1\n",
    "for i in range(1,n+1): #(1,4)\n",
    "    f=f*i   #1=1*1=1    #1=1*2=2  #2=2*3=6   #6=6*4=24\n",
    "print(f)"
   ]
  },
  {
   "cell_type": "markdown",
   "metadata": {},
   "source": [
    "## While\n",
    "- It executes block or set of instructions until the false\n",
    "- we are while when we dont know the range\n",
    "- execution is fast compare to for."
   ]
  },
  {
   "cell_type": "code",
   "execution_count": null,
   "metadata": {},
   "outputs": [],
   "source": [
    "#while syntax:\n",
    "initilazation\n",
    "while condition:\n",
    "    statement\n",
    "    incre/decre"
   ]
  },
  {
   "cell_type": "code",
   "execution_count": 41,
   "metadata": {},
   "outputs": [
    {
     "name": "stdout",
     "output_type": "stream",
     "text": [
      "thankyou\n",
      "thankyou\n",
      "thankyou\n",
      "thankyou\n"
     ]
    }
   ],
   "source": [
    "n=2\n",
    "while n<=5:\n",
    "    print(\"thankyou\")\n",
    "    n=n+1"
   ]
  },
  {
   "cell_type": "code",
   "execution_count": 42,
   "metadata": {},
   "outputs": [
    {
     "name": "stdout",
     "output_type": "stream",
     "text": [
      "1 2 3 4 5 6 7 8 9 10 "
     ]
    }
   ],
   "source": [
    "i=1\n",
    "while(i<=10):\n",
    "    print(i,end=\" \")\n",
    "    i=i+1"
   ]
  },
  {
   "cell_type": "code",
   "execution_count": 43,
   "metadata": {},
   "outputs": [
    {
     "name": "stdout",
     "output_type": "stream",
     "text": [
      "10 9 8 7 6 5 4 3 2 1 "
     ]
    }
   ],
   "source": [
    "i=10\n",
    "while(i>=1):\n",
    "    print(i,end=\" \")\n",
    "    i=i-1"
   ]
  },
  {
   "cell_type": "code",
   "execution_count": 45,
   "metadata": {},
   "outputs": [
    {
     "name": "stdout",
     "output_type": "stream",
     "text": [
      "7864\n",
      "4\n"
     ]
    }
   ],
   "source": [
    "#i/p:123456789 no.of digits\n",
    "#o/p:9\n",
    "n=int(input())   #7864\n",
    "c=0\n",
    "while(n!=0):    #7864!=0    #786!=0    #78!=0      #7!=0  #0!=0\n",
    "    #rem=n%10   #7864%10=4   #786%10=6   #78%10=8   7%10=0.\n",
    "    c=c+1     #1            #2              #3     #4\n",
    "    n=n//10  #7864//10=786  #786//10=78   78//10=7  7//10=0\n",
    "print(c)\n",
    "    "
   ]
  },
  {
   "cell_type": "code",
   "execution_count": null,
   "metadata": {},
   "outputs": [],
   "source": [
    "10)7864(786         10)786(78\n",
    "   7860                780\n",
    "   -----              -----\n",
    "rem-> 4                  6"
   ]
  }
 ],
 "metadata": {
  "kernelspec": {
   "display_name": "Python 3",
   "language": "python",
   "name": "python3"
  },
  "language_info": {
   "codemirror_mode": {
    "name": "ipython",
    "version": 3
   },
   "file_extension": ".py",
   "mimetype": "text/x-python",
   "name": "python",
   "nbconvert_exporter": "python",
   "pygments_lexer": "ipython3",
   "version": "3.8.3"
  }
 },
 "nbformat": 4,
 "nbformat_minor": 4
}
