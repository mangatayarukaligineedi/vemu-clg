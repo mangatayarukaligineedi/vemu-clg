{
 "cells": [
  {
   "cell_type": "code",
   "execution_count": 1,
   "metadata": {},
   "outputs": [
    {
     "name": "stdout",
     "output_type": "stream",
     "text": [
      "enter number3\n",
      "enter number4\n",
      "1.add 2.sub 3.mul 4.div 5.floordiv 6.mod 7.pow\n",
      "enter your choice:3\n",
      "mul is: 12\n"
     ]
    }
   ],
   "source": [
    "a=int(input(\"enter number\"))\n",
    "b=int(input(\"enter number\"))\n",
    "print(\"1.add 2.sub 3.mul 4.div 5.floordiv 6.mod 7.pow\")\n",
    "choice=int(input(\"enter your choice:\"))\n",
    "if(choice==1):\n",
    "    print(\"addition is:\",a+b)\n",
    "elif(choice==2):\n",
    "    print(\"sub is:\",a-b)\n",
    "elif(choice==3):\n",
    "    print(\"mul is:\",a*b)\n",
    "elif(choice==4):\n",
    "    print(\"div is:\",a/b)\n",
    "elif(choice==5):\n",
    "    print(\"floor div is:\",a//b)\n",
    "elif(choice==6):\n",
    "    print(\"mod is:\",a%b)\n",
    "elif(choice==7):\n",
    "    print(\"pow is:\",a**b)\n",
    "else:\n",
    "    print(\"Invalid Choice\")\n"
   ]
  },
  {
   "cell_type": "code",
   "execution_count": 6,
   "metadata": {},
   "outputs": [
    {
     "name": "stdout",
     "output_type": "stream",
     "text": [
      "enter your usernameprogram\n",
      "Invalid credits\n"
     ]
    }
   ],
   "source": [
    "#username=\"python\"\n",
    "#psaaword=\"batch\"\n",
    "#i/p:usname,pswrd:\n",
    "#o/p:welcome to python\n",
    "username=\"python\"\n",
    "password=\"batch\"\n",
    "usname=input(\"enter your username\")\n",
    "if usname==username:\n",
    "    pswrd=input(\"enter your password\")\n",
    "    if pswrd==password:\n",
    "        print(\"welcome\",username)\n",
    "    else:\n",
    "        print(\"Invalid password\")\n",
    "else:\n",
    "    print(\"Invalid credits\")\n",
    "        "
   ]
  },
  {
   "cell_type": "code",
   "execution_count": null,
   "metadata": {},
   "outputs": [],
   "source": [
    "#Nested if: if block inside if block\n",
    "if(condition):\n",
    "    statament\n",
    "    if(condition):\n",
    "        statement\n",
    "    else:\n",
    "        statement\n",
    "else:\n",
    "    statement"
   ]
  },
  {
   "cell_type": "code",
   "execution_count": 9,
   "metadata": {},
   "outputs": [
    {
     "name": "stdout",
     "output_type": "stream",
     "text": [
      "enter input#\n",
      "Special Characters\n"
     ]
    }
   ],
   "source": [
    "#i/p:d              9      @\n",
    "#o/p:alphabet   digit      special characters\n",
    "n=input(\"enter input\")\n",
    "if(n>='a' and n<='z') or (n>='A' and n<='Z'):\n",
    "    print(\"Alphabet\")\n",
    "elif(n>='0'and n<='9'):\n",
    "    print(\"digit\")\n",
    "else:\n",
    "    print(\"Special Characters\")"
   ]
  },
  {
   "cell_type": "code",
   "execution_count": 13,
   "metadata": {},
   "outputs": [
    {
     "name": "stdout",
     "output_type": "stream",
     "text": [
      "enter marks110\n",
      "invalid marks\n"
     ]
    }
   ],
   "source": [
    "#i/p:marks:80-90--->Agrade \n",
    "#70-60--->b grade\n",
    "#60-50--->c grade\n",
    "#50-40-->d grade\n",
    "#<40--->Fail\n",
    "marks=int(input(\"enter marks\"))\n",
    "if(marks>=80 and marks<=90):\n",
    "    print(\"A grade\")\n",
    "elif(marks>=60 and marks<=70):\n",
    "    print(\"B grade\")\n",
    "elif(marks>=50 and marks<=60):\n",
    "    print(\" C grade\")\n",
    "elif(marks>=40 and marks<=50):\n",
    "    print(\"D grade\")\n",
    "elif(marks<=40):\n",
    "    print(\"fail\")\n",
    "else:\n",
    "    print(\"invalid marks\")"
   ]
  },
  {
   "cell_type": "code",
   "execution_count": 16,
   "metadata": {},
   "outputs": [
    {
     "ename": "SyntaxError",
     "evalue": "invalid syntax (<ipython-input-16-a7675c01af8d>, line 6)",
     "output_type": "error",
     "traceback": [
      "\u001b[1;36m  File \u001b[1;32m\"<ipython-input-16-a7675c01af8d>\"\u001b[1;36m, line \u001b[1;32m6\u001b[0m\n\u001b[1;33m    else\u001b[0m\n\u001b[1;37m        ^\u001b[0m\n\u001b[1;31mSyntaxError\u001b[0m\u001b[1;31m:\u001b[0m invalid syntax\n"
     ]
    }
   ],
   "source": [
    "#i/p:  given num is even --> num >10 -> **2    n<10 **3   print odd\n",
    "n=int(input(\"enter number\"))\n",
    "if(n%2==0):\n",
    "    if(n>10):\n",
    "        print(n**2)\n",
    "    else:\n",
    "        print(n**3)\n",
    "else:\n",
    "    print(\"Odd\")"
   ]
  },
  {
   "cell_type": "code",
   "execution_count": null,
   "metadata": {},
   "outputs": [],
   "source": []
  }
 ],
 "metadata": {
  "kernelspec": {
   "display_name": "Python 3",
   "language": "python",
   "name": "python3"
  },
  "language_info": {
   "codemirror_mode": {
    "name": "ipython",
    "version": 3
   },
   "file_extension": ".py",
   "mimetype": "text/x-python",
   "name": "python",
   "nbconvert_exporter": "python",
   "pygments_lexer": "ipython3",
   "version": "3.8.3"
  }
 },
 "nbformat": 4,
 "nbformat_minor": 4
}
